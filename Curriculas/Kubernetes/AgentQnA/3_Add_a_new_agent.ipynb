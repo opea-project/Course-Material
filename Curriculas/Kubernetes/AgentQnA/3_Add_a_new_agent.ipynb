{
 "cells": [
  {
   "cell_type": "markdown",
   "metadata": {},
   "source": [
    "<img src=\"https://opea.dev/wp-content/uploads/sites/9/2024/04/opea-horizontal-color.svg\" alt=\"OPEA Logo\">\n",
    "\n",
    "<div style=\"text-align: center; margin: 20px 0;\">\n",
    "<a href=\"https://colab.research.google.com/github/opea-project/Course-Material/blob/main/Curriculas/Kubernetes/AgentQnA/3_Add_a_new_agent.ipynb\" target=\"_blank\">\n",
    "  <img src=\"https://colab.research.google.com/assets/colab-badge.svg\" alt=\"Open In Colab\"/>\n",
    "</a>\n",
    "</div>\n",
    "\n",
    "> **Quick Start:** Click the button above to open this notebook directly in Google Colab - no local setup required!\n",
    "\n",
    "# Add Your Own Web Search Agent\n",
    "\n",
    "## Extending Agent Capabilities with Real-Time Web Search\n",
    "\n",
    "---\n",
    "\n",
    "### Learning Objectives\n",
    "\n",
    "<div style=\"background: linear-gradient(135deg, #667eea 0%, #764ba2 100%); padding: 15px; border-radius: 10px; color: white; margin: 10px 0;\">\n",
    "<strong>By the end of this tutorial, you'll be able to:</strong>\n",
    "<ul>\n",
    "<li><strong>Design</strong> - Create new agent interfaces and tool definitions</li>\n",
    "<li><strong>Implement</strong> - Build web search functionality with Google APIs</li>\n",
    "<li><strong>Integrate</strong> - Connect new agents with the supervisor system</li>\n",
    "<li><strong>Deploy</strong> - Add new microservices to your Kubernetes cluster</li>\n",
    "<li><strong>Test</strong> - Validate real-time information retrieval capabilities</li>\n",
    "</ul>\n",
    "</div>"
   ]
  },
  {
   "cell_type": "markdown",
   "metadata": {
    "vscode": {
     "languageId": "raw"
    }
   },
   "source": [
    "# Prerequisites\n",
    "\n",
    "This notebook assumes you have successfully completed **Notebook 1: Deploy AgentQnA** and have:\n",
    "\n",
    "## 1. **Running AgentQnA Deployment**\n",
    "   - All AgentQnA pods are running in your Kubernetes cluster\n",
    "   - Supervisor, RAG Agent, and SQL Agent are operational\n",
    "   - Port forwarding configured for accessing services\n",
    "\n",
    "## 2. **Required Tools Available**\n",
    "   - **`kubectl`** - Configured and connected to your cluster\n",
    "   - **`curl`** and **`jq`** - For testing API endpoints\n",
    "   - **`docker`** - If using KIND cluster for file mounting\n",
    "\n",
    "## 3. **Agent Configuration Files**\n",
    "   - Agent tools and configuration files should be accessible\n",
    "   - `/mnt/tools/` directory mounted in your cluster (for KIND)\n",
    "\n",
    "## 4. **External API Access**\n",
    "   - **Google Cloud Account** - For Search API access\n",
    "   - **Internet connectivity** - For API calls and web search functionality\n",
    "\n",
    "## 5. **Development Skills**\n",
    "   - Basic understanding of **Python** and **YAML**\n",
    "   - Familiarity with **REST APIs** and **JSON**\n",
    "   - Experience with **Kubernetes deployments**\n",
    "\n",
    "---"
   ]
  },
  {
   "cell_type": "markdown",
   "metadata": {},
   "source": [
    "# 1. Introduction: Why Add a Web Search Agent?"
   ]
  },
  {
   "cell_type": "markdown",
   "metadata": {},
   "source": [
    "## 1.1 From Static to Dynamic: The Need for Real-Time Information\n",
    "\n",
    "In our previous notebooks, we worked with static knowledge bases that contain pre-ingested information. While this approach works well for many use cases, **real-world applications often require access to current, up-to-date information** that changes frequently.\n",
    "\n",
    "Examples of time-sensitive information needs:\n",
    "- **Concert Schedules**: Tour dates are announced, venues change, shows are cancelled\n",
    "- **News Events**: Breaking news, current events, and trending topics\n",
    "- **Market Data**: Stock prices, exchange rates, and financial indicators\n",
    "- **Weather Information**: Current conditions, forecasts, and alerts\n",
    "\n",
    "### Key Limitations of Static Knowledge:\n",
    "\n",
    "| Limitation | Problem | Impact |\n",
    "|------------|---------|---------|\n",
    "| **Outdated Information** | Training data becomes stale over time | Inaccurate responses to current events |\n",
    "| **No External Access** | Isolated from real-time data sources | Limited to pre-existing knowledge |\n",
    "| **Static Datasets** | Cannot adapt to changing information | Responses may be completely wrong |\n",
    "| **Manual Updates** | Requires reingestion for new data | Slow adaptation to new information |\n",
    "\n",
    "---\n",
    "\n",
    "## 1.2 Solution: Web Search Agent\n",
    "\n",
    "To overcome these limitations, we'll create a **Web Search Agent** that can:\n",
    "\n",
    "1. **Access Real-Time Information** - Query current data from the internet\n",
    "2. **Provide Accurate Answers** - Get up-to-date information about events, schedules, and news\n",
    "3. **Seamless Integration** - Work alongside existing agents in the supervisor system\n",
    "4. **Fast Response** - Retrieve information quickly through APIs\n",
    "\n",
    "### Our Use Case: Concert Information\n",
    "\n",
    "We'll focus on **concert and event information** because it demonstrates the need for real-time data:\n",
    "- Tour announcements happen frequently\n",
    "- Venue changes and cancellations are common\n",
    "- Ticket availability changes in real-time\n",
    "- Artist schedules are constantly updated\n",
    "\n",
    "---\n",
    "\n"
   ]
  },
  {
   "cell_type": "markdown",
   "metadata": {},
   "source": [
    "\n",
    "# 2. Setup and Environment Verification\n",
    "\n",
    "Let's start by verifying that your environment is properly set up and that the Agent Supervisor is accessible."
   ]
  },
  {
   "cell_type": "markdown",
   "metadata": {},
   "source": [
    "## 2.1 Port-Forward Verification Process\n",
    "\n",
    "The code below will:\n",
    "\n",
    "1. **Check Connection**: Verify if port 9090 is already accessible\n",
    "2. **Start Port-Forward**: Automatically start port-forwarding if needed\n",
    "3. **Validate Access**: Confirm the Agent Supervisor is reachable\n",
    "4. **Error Handling**: Provide clear feedback on connection status\n",
    "\n",
    "We need a stable connection to the Agent Supervisor to test our current system limitations and validate our new web search agent later.\n",
    "\n",
    "<div style=\"background: linear-gradient(135deg, #f093fb 0%, #f5576c 100%); padding: 15px; border-radius: 10px; color: white; margin: 10px 0;\">\n",
    "<strong>Important:</strong> This step ensures we have a baseline working system before adding new capabilities. If this fails, please review your Kubernetes cluster setup and ensure AgentQnA is properly deployed.\n",
    "</div>\n"
   ]
  },
  {
   "cell_type": "code",
   "execution_count": null,
   "metadata": {
    "vscode": {
     "languageId": "plaintext"
    }
   },
   "outputs": [],
   "source": [
    "#Check if your Agent supervisor has the port-forwarding enabled \n",
    "\n",
    "import socket \n",
    "\n",
    "import socket\n",
    "import subprocess\n",
    "import time\n",
    "\n",
    "# Check if port 9090 is already open\n",
    "def is_port_open(host='localhost', port=9090):\n",
    "    with socket.socket(socket.AF_INET, socket.SOCK_STREAM) as sock:\n",
    "        sock.settimeout(1)  # short timeout for responsiveness in notebook\n",
    "        try:\n",
    "            sock.connect((host, port))\n",
    "            return True\n",
    "        except:\n",
    "            return False\n",
    "\n",
    "if is_port_open():\n",
    "    print(\"✅ Port-forward already running on localhost:9090.\")\n",
    "else:\n",
    "    print(\"🔁 Port not open. Starting port-forward to svc/agentqna-supervisor...\")\n",
    "    subprocess.Popen(\n",
    "        [\"kubectl\", \"port-forward\", \"svc/agentqna-supervisor\", \"9090:9090\"],\n",
    "        stdout=subprocess.DEVNULL,\n",
    "        stderr=subprocess.DEVNULL\n",
    "    )\n",
    "    # Optional: wait a moment to let it start\n",
    "    time.sleep(2)\n",
    "    if is_port_open():\n",
    "        print(\"✅ Port-forward started successfully.\")\n",
    "    else:\n",
    "        print(\"❌ Failed to start port-forward.\")\n"
   ]
  },
  {
   "cell_type": "markdown",
   "metadata": {},
   "source": [
    "# 3. Understanding Current System Limitations"
   ]
  },
  {
   "cell_type": "markdown",
   "metadata": {},
   "source": [
    "\n",
    "\n",
    "## 3.1 Testing Static Knowledge Boundaries\n",
    "\n",
    "Let's start by understanding why we need a new agent. We'll test our current system by asking a question that requires up-to-date information:\n",
    "\n",
    "<div style=\"background: linear-gradient(135deg, #3f4c6b 0%, #606c88 100%); padding: 15px; border-radius: 10px; color: white; margin: 10px 0;\">\n",
    "<strong>Test Question:</strong> \"When is the next Oasis concert?\"\n",
    "</div>\n",
    "\n",
    "### Why This Question is Perfect for Testing:\n",
    "\n",
    "| Aspect | Challenge | Why It Matters |\n",
    "|--------|-----------|----------------|\n",
    "| **Time-Sensitive** | Concert dates change frequently | Tests real-time information needs |\n",
    "| **Current Events** | Requires recent announcements | Beyond training data cutoff |\n",
    "| **Domain-Specific** | Music industry knowledge | Tests specialized information |\n",
    "| **External Sources** | Needs web search capability | Tests external data access |\n",
    "\n",
    "**Expected Behavior**: Our current system will likely provide generic or outdated information since it lacks access to current concert listings and tour announcements.\n",
    "\n",
    "## 3.2 Current System Test\n",
    "\n",
    "Let's see how our existing AgentQnA system handles this real-time information request:"
   ]
  },
  {
   "cell_type": "code",
   "execution_count": null,
   "metadata": {},
   "outputs": [],
   "source": [
    "# Make the question\n",
    "!curl -s http://localhost:9090/v1/chat/completions \\\n",
    "  -X POST \\\n",
    "  -H \"Content-Type: application/json\" \\\n",
    "  -d '{\"role\": \"user\", \"messages\": \"When is the next Oasis concert?\", \"thread_id\": \"random_2\", \"stream\": false}' \\\n",
    "  | jq -r '.text'"
   ]
  },
  {
   "cell_type": "code",
   "execution_count": null,
   "metadata": {},
   "outputs": [],
   "source": [
    "# Let's check the supervisor logs\n",
    "\n",
    "!kubectl logs -l app.kubernetes.io/name=supervisor --tail=30"
   ]
  },
  {
   "cell_type": "markdown",
   "metadata": {},
   "source": [
    "\n",
    "## 3.3 Analysis of Current System Limitations\n",
    "\n",
    "As we can see from the response above, our current system has several key limitations when dealing with real-time information:\n",
    "\n",
    "### Detailed Analysis:\n",
    "\n",
    "| Limitation | Root Cause | Business Impact |\n",
    "|------------|------------|-----------------|\n",
    "| **Outdated Knowledge** | Static training data with cutoff date | Inaccurate responses to current events |\n",
    "| **No External Access** | Isolated system without internet connectivity | Cannot access real-time information |\n",
    "| **Limited Tool Set** | No tools for dynamic data retrieval | Stuck with pre-existing knowledge only |\n",
    "| **Static Response** | Cannot adapt to changing information | Potentially misleading or false information |\n",
    "\n",
    "**Key Insight**: The system performs well with static, historical information but fails when current, dynamic data is required.\n",
    "\n",
    "---\n",
    "\n"
   ]
  },
  {
   "cell_type": "markdown",
   "metadata": {},
   "source": [
    "# 4. Solution Architecture: Web Search Agent\n"
   ]
  },
  {
   "cell_type": "markdown",
   "metadata": {},
   "source": [
    "\n",
    "## 4.1 Architectural Overview\n",
    "\n",
    "To solve these limitations, we'll create a comprehensive **Web Search Agent** that integrates seamlessly with our existing system:\n",
    "\n",
    "<div style=\"background: linear-gradient(135deg, #667eea 0%, #764ba2 100%); padding: 15px; border-radius: 10px; color: white; margin: 10px 0;\">\n",
    "<strong>Our Solution Components:</strong>\n",
    "<ul>\n",
    "<li><strong>Google Search API Integration</strong> - Real-time web search capabilities</li>\n",
    "<li><strong>Agent Tool Definition</strong> - YAML interface for supervisor routing</li>\n",
    "<li><strong>Python Implementation</strong> - Search logic and result processing</li>\n",
    "<li><strong>Microservice Deployment</strong> - Kubernetes-based agent service</li>\n",
    "<li><strong>Supervisor Integration</strong> - Seamless routing and orchestration</li>\n",
    "</ul>\n",
    "</div>\n",
    "\n",
    "### Implementation Roadmap:\n",
    "\n",
    "1. **Tool Interface Design** - Define agent capabilities and parameters\n",
    "2. **Search Implementation** - Build Google API integration\n",
    "3. **Supervisor Integration** - Enable agent discovery and routing\n",
    "4. **Microservice Deployment** - Add new service to Kubernetes cluster\n",
    "5. **Testing & Validation** - Verify real-time capabilities\n",
    "\n",
    "Let's break down each step in detail:"
   ]
  },
  {
   "cell_type": "markdown",
   "metadata": {},
   "source": [
    "## 4.2 Understanding the Agent Tools Architecture\n",
    "\n",
    "### Tools Directory Structure\n",
    "\n",
    "Agent capabilities in OPEA are defined through a **dual-file architecture** that separates interface from implementation:\n",
    "\n",
    "<div style=\"background: linear-gradient(135deg, #a8edea 0%, #fed6e3 100%); padding: 15px; border-radius: 10px; color: #333; margin: 10px 0;\">\n",
    "<strong>File Types & Purposes:</strong>\n",
    "</div>\n",
    "\n",
    "| File Type | Purpose | Contains | Example |\n",
    "|-----------|---------|----------|---------|\n",
    "| **YAML Files** (`.yaml`) | **Interface Definition** | Tool schemas, parameters, descriptions | `worker_web_agent_tools.yaml` |\n",
    "| **Python Files** (`.py`) | **Implementation Logic** | Functions, API calls, business logic | `worker_web_agent_tools.py` |\n",
    "\n",
    "### Detailed Component Analysis:\n",
    "\n",
    "#### YAML Configuration Files:\n",
    "- **Tool Names**: Unique identifiers for each capability\n",
    "- **Descriptions**: Help supervisor understand when to use tools\n",
    "- **Parameters**: Input/output schemas and validation\n",
    "- **Function Mapping**: Links to Python implementation\n",
    "\n",
    "#### Python Implementation Files:\n",
    "- **Function Definitions**: Actual tool logic and algorithms\n",
    "- **API Integrations**: External service connections (Google, etc.)\n",
    "- **Data Processing**: Result formatting and filtering\n",
    "- **Error Handling**: Robust failure management\n",
    "\n",
    "**Design Philosophy**: This separation allows for easy maintenance, testing, and updates without breaking the agent interface."
   ]
  },
  {
   "cell_type": "markdown",
   "metadata": {},
   "source": [
    "### Directory Structure in OPEA Agents\n",
    "\n",
    "The tools for both **Supervisor** and **Worker** agents are located in the `/mnt/tools/` directory. This directory is mounted in the Kubernetes cluster and accessible to all agents.\n",
    "\n",
    "<div style=\"background: linear-gradient(135deg, #ffecd2 0%, #fcb69f 100%); padding: 15px; border-radius: 10px; color: #333; margin: 10px 0;\">\n",
    "<strong>Standard Directory Layout:</strong>\n",
    "</div>\n",
    "\n",
    "```bash\n",
    "/mnt/tools/\n",
    "├── supervisor_agent_tools.yaml    # Supervisor: Tool interface definitions\n",
    "├── supervisor_agent_tools.py      # Supervisor: Tool implementations\n",
    "├── tools.py                       # Shared utilities and common functions + SQL and CRAG in the AgentQnA example\n",
    "├── worker_agent_tools.yaml          # RAG Agent: Knowledge base interface\n",
    "├── worker_agent_tools.py            # RAG Agent: Search implementations\n",
    "```\n",
    "\n",
    "### What We'll Add Today:\n",
    "\n",
    "| File | Purpose | What It Does |\n",
    "|------|---------|--------------|\n",
    "| `worker_web_agent_tools.yaml` | **Web Search Interface** | Defines search capabilities and parameters |\n",
    "| `worker_web_agent_tools.py` | **Search Implementation** | Implements Google API integration |\n",
    "| Update `supervisor_agent_tools.yaml` | **Supervisor Enhancement** | Adds web search to available tools |\n",
    "| Update `tools.py` | **Integration Logic** | Connects supervisor to web agent |\n"
   ]
  },
  {
   "cell_type": "markdown",
   "metadata": {},
   "source": [
    "## 4.3 Creating the Web Search Agent\n",
    "\n",
    "Now that we understand the directory structure, let's create our web search agent. We'll need to create two new files:\n",
    "\n",
    "1. `worker_web_agent_tools.yaml`: Defines the interface for our web search functionality\n",
    "2. `worker_web_agent_tools.py`: Implements the actual web search using Google's API\n",
    "\n",
    "### Create the Interface Definition\n",
    "\n",
    "First, let's create the YAML file that defines our web search tool. This file will:\n",
    "- Define a `search_concert_schedule` function\n",
    "- Specify the input parameters (search query)\n",
    "- Define the expected output format\n",
    "- Map to the implementation in our Python file"
   ]
  },
  {
   "cell_type": "markdown",
   "metadata": {},
   "source": [
    "Navigate to `/mnt/tools/` and create a new file called `worker_web_agent_tools.yaml` with the following content:\n",
    "\n",
    "```yaml\n",
    "search_concert_schedule:\n",
    "  description: Search in the internet for recent concert schedule information.\n",
    "  callable_api: worker_web_agent_tools.py:search_web_base\n",
    "  args_schema:\n",
    "    query:\n",
    "      type: str\n",
    "      description: query\n",
    "  return_output: retrieved_data\n",
    "```\n",
    "\n",
    "Click on `Save`\n",
    "\n",
    "### Implement the Search Functionality\n",
    "\n",
    "Next, let's create the Python implementation file `worker_web_agent_tools.py`. This file will:\n",
    "- Connect to Google's Search API\n",
    "- Process search results\n",
    "- Return formatted concert information"
   ]
  },
  {
   "cell_type": "markdown",
   "metadata": {},
   "source": [
    "Remain the same `/mnt/tools/`folder create `worker_web_agent_tools.py` with the following implementation:\n",
    "\n",
    "```python\n",
    "def search_web_base(query: str) -> str:\n",
    "    import os\n",
    "    api_key = os.environ[\"GOOGLE_API_KEY\"]\n",
    "    cse_id = os.environ[\"GOOGLE_CSE_ID\"]\n",
    "\n",
    "    from langchain_core.tools import Tool\n",
    "    from langchain_google_community import GoogleSearchAPIWrapper\n",
    "\n",
    "    search = GoogleSearchAPIWrapper()\n",
    "\n",
    "    tool = Tool(\n",
    "        name=\"google_search\",\n",
    "        description=\"Search Google for the MOST recent results.\",\n",
    "        func=search.run,\n",
    "    )\n",
    "\n",
    "    response = tool.run(query)\n",
    "    return response\n",
    "```\n",
    "\n",
    "This implementation:\n",
    "1. Uses environment variables for API credentials\n",
    "2. Leverages LangChain's Google Search wrapper\n",
    "3. Creates a search tool that returns formatted results\n",
    "4. Handles the query and response processing\n"
   ]
  },
  {
   "cell_type": "markdown",
   "metadata": {},
   "source": [
    "### Implement Supervisor Integration\n",
    "\n",
    "Replace `search_web_base` function for the following function on `mnt/tools/` folder present on `tools.py` to handle web search requests:\n",
    "\n",
    "```python\n",
    "@opea_telemetry\n",
    "def search_web_base(query: str) -> str:\n",
    "    url = os.environ.get(\"WORKER_NAVIGATION_URL\")\n",
    "    proxies = {\"http\": \"\"}\n",
    "    \n",
    "    payload = {\n",
    "        \"messages\": [\n",
    "            {\"role\": \"user\", \"content\": query}\n",
    "        ]\n",
    "    }\n",
    "    \n",
    "    response = requests.post(url, json=payload, proxies=proxies)\n",
    "    data = response.json()\n",
    "    \n",
    "    return data.get(\"text\", \"\")\n",
    "```\n",
    "\n",
    "This implementation:\n",
    "1. Uses the worker's agent URL from environment variables\n",
    "2. Formats the query as a chat message\n",
    "3. Handles the API communication with the worker\n",
    "4. Processes and returns the response"
   ]
  },
  {
   "cell_type": "markdown",
   "metadata": {},
   "source": [
    "#### Open `supervisor_agent_tools.yaml` and add on the top of the file the worker information to let the supervisor know.\n",
    "\n",
    "```bash \n",
    "search_concert_schedule:\n",
    "  description: Search in the internet for recent concert schedule information.\n",
    "  callable_api: tools.py:search_web_base\n",
    "  args_schema:\n",
    "    query:\n",
    "      type: str\n",
    "      description: query\n",
    "  return_output: retrieved_data\n",
    "```"
   ]
  },
  {
   "cell_type": "markdown",
   "metadata": {},
   "source": [
    "### Set the New Agent Microservice"
   ]
  },
  {
   "cell_type": "markdown",
   "metadata": {},
   "source": [
    "Naviagate to the HELM chart configuration files `/agentqna` (`.../Kubernetes/AgentQnA/agentqna`), open `values.yaml` and look for the `supervisor` component. Replace the `supervisor` component and add the new browser agent configuration."
   ]
  },
  {
   "cell_type": "markdown",
   "metadata": {},
   "source": [
    "\n",
    "```yaml\n",
    "browseragent:                                                   #<------ Component Name\n",
    "  toolHostPath: \"/mnt/tools\"\n",
    "  service:\n",
    "    port: 9097                                                          #<------ PORT for our new component (BE SURE DONT OVERLAP, you could use 9097)\n",
    "  strategy: react_llama                                                 #<------ Strategy for the component (refer to :https://github.com/opea-project/GenAIComps/blob/main/comps/agent/src/README.md#12-llm-engine))\n",
    "  with_memory: true\n",
    "  recursion_limit: 10\n",
    "  llm_engine: openai\n",
    "  temperature: \"0\"\n",
    "  max_new_tokens: \"4096\"\n",
    "  stream: \"true\"\n",
    "  tools: /home/user/tools/worker_web_agent_tools.yaml                    #<------ Path were the agent will read the instructions locally(yaml)\n",
    "  require_human_feedback: false\n",
    "######VALIDATE\n",
    "  GOOGLE_API_KEY: \"\"\n",
    "  GOOGLE_CSE_ID: \"\"\n",
    "\n",
    "supervisor:\n",
    "  toolHostPath: \"/mnt/tools\"\n",
    "  service:\n",
    "    port: 9090\n",
    "  strategy: react_llama\n",
    "  with_memory: true\n",
    "  recursion_limit: 10\n",
    "  llm_engine: vllm\n",
    "  llm_endpoint_url: \"\"\n",
    "  model: \"meta-llama/Llama-3.3-70B-Instruct\"\n",
    "  temperature: \"0\"\n",
    "  max_new_tokens: \"4096\"\n",
    "  stream: \"true\"\n",
    "  tools: /home/user/tools/supervisor_agent_tools.yaml\n",
    "  require_human_feedback: false\n",
    "  CRAG_SERVER: \"\"\n",
    "  WORKER_AGENT_URL: \"\"\n",
    "  SQL_AGENT_URL: \"\"\n",
    "###VALIDATE\n",
    "  WORKER_NAVIGATION_URL: \"\"                                             # <-------------ADD THIS LINE AT THE ENDSpecify where the Browser worker is located\n",
    "\n",
    "```"
   ]
  },
  {
   "cell_type": "markdown",
   "metadata": {},
   "source": [
    "#### In the same folder open `variant_openai-values.yaml` and configure your LLMs platform (You can mix them to run on multiple platforms!)"
   ]
  },
  {
   "cell_type": "markdown",
   "metadata": {},
   "source": [
    "\n",
    "```yaml\n",
    "supervisor:\n",
    "  model: \"meta-llama/Llama-3.3-70B-Instruct\n",
    "  llm_endpoint_url: \"https://api.inference.denvrdata.com\"\n",
    "  OPENAI_API_KEY: \"your_denvr_key\"\n",
    "\n",
    "ragagent:\n",
    "  model: \"meta-llama/Llama-3.3-70B-Instruct\"\n",
    "  llm_endpoint_url: \"https://api.inference.denvrdata.com\"\n",
    "  OPENAI_API_KEY: \"your_denvr_key\"\n",
    "\n",
    "sqlagent:\n",
    "  model: \"meta-llama/Llama-3.3-70B-Instruct\"\n",
    "  llm_endpoint_url: \"https://api.inference.denvrdata.com\"\n",
    "  OPENAI_API_KEY: \"your_denvr_key\"\n",
    "\n",
    "browseragent:\n",
    "  #model: \"gpt-4o-mini-2024-07-18\"\n",
    "  model: \"meta-llama/Llama-3.3-70B-Instruct\"\n",
    "  llm_endpoint_url: \"https://api.inference.denvrdata.com\"\n",
    "  llm_engine: openai\n",
    "  OPENAI_API_KEY: \"your_denvr_key\"\n",
    "```"
   ]
  },
  {
   "cell_type": "markdown",
   "metadata": {},
   "source": [
    "####  Go to `.../Kubernetes/AgentQnA/agentqna/Chart.yaml` and add the new microservice config `worker-browser-agent` right after `dependencies:`\n",
    "```bash\n",
    "- alias: browseragent\n",
    "  name: agent\n",
    "  repository: file://../common/agent\n",
    "  version: 0-latest\n",
    "```"
   ]
  },
  {
   "cell_type": "markdown",
   "metadata": {},
   "source": [
    "Your new config should look like : \n",
    "\n",
    "![image](./Images/agent_2.png)"
   ]
  },
  {
   "cell_type": "markdown",
   "metadata": {},
   "source": [
    "#### Modify the config map to use declare the environment variables to be passed. "
   ]
  },
  {
   "cell_type": "code",
   "execution_count": null,
   "metadata": {},
   "outputs": [],
   "source": [
    "file_path = \"agentqna/charts/agent/templates/configmap.yaml\"\n",
    "\n",
    "helm_block = '''\\\n",
    "{{- if .Values.WORKER_NAVIGATION_URL }}\n",
    "WORKER_NAVIGATION_URL: {{ .Values.WORKER_NAVIGATION_URL | quote }}\n",
    "{{- else }}\n",
    "WORKER_NAVIGATION_URL: \"http://{{ .Release.Name }}-browseragent:9097/v1/chat/completions\"\n",
    "{{- end }}\n",
    "\n",
    "{{- if .Values.GOOGLE_API_KEY }}\n",
    "GOOGLE_API_KEY: {{ .Values.GOOGLE_API_KEY | quote }}\n",
    "{{- else }}\n",
    "GOOGLE_API_KEY: \"default-or-empty-value\"\n",
    "{{- end }}\n",
    "\n",
    "{{- if .Values.GOOGLE_CSE_ID }}\n",
    "GOOGLE_CSE_ID: {{ .Values.GOOGLE_CSE_ID | quote }}\n",
    "{{- else }}\n",
    "GOOGLE_CSE_ID: \"default-or-empty-value\"\n",
    "{{- end }}  \n",
    "'''\n",
    "\n",
    "with open(file_path, \"r\") as f:\n",
    "    lines = f.readlines()\n",
    "\n",
    "new_lines = []\n",
    "inserted = False\n",
    "for line in lines:\n",
    "    new_lines.append(line)\n",
    "    if not inserted and line.strip() == \"data:\":\n",
    "        indent = \"  \"  # 2 spaces indent to match YAML\n",
    "        for helm_line in helm_block.split(\"\\n\"):\n",
    "            new_lines.append(indent + helm_line + \"\\n\")\n",
    "        inserted = True\n",
    "\n",
    "with open(file_path, \"w\") as f:\n",
    "    f.writelines(new_lines)\n",
    "\n",
    "print(\"✅ Helm block inserted only after 'data:' with correct indentation\")"
   ]
  },
  {
   "cell_type": "markdown",
   "metadata": {},
   "source": [
    "# 5. Google Search API Configuration"
   ]
  },
  {
   "cell_type": "markdown",
   "metadata": {},
   "source": [
    "\n",
    "\n",
    "## 5.1 Why Google Search API?\n",
    "\n",
    "Before we implement our web search agent, we need access to Google's powerful search capabilities. Google's **Custom Search API** provides:\n",
    "\n",
    "<div style=\"background: linear-gradient(135deg, #667eea 0%, #764ba2 100%); padding: 15px; border-radius: 10px; color: white; margin: 10px 0;\">\n",
    "<strong>Key Benefits:</strong>\n",
    "<ul>\n",
    "<li><strong>Real-Time Results</strong> - Access to current web information</li>\n",
    "<li><strong>Fast Performance</strong> - Optimized search infrastructure</li>\n",
    "<li><strong>Customizable</strong> - Filter results by site, date, content type</li>\n",
    "<li><strong>Structured Data</strong> - JSON responses perfect for agents</li>\n",
    "<li><strong>Reliable</strong> - Enterprise-grade API with rate limiting</li>\n",
    "</ul>\n",
    "</div>\n",
    "\n",
    "### Setup Requirements:\n",
    "\n",
    "| Component | Purpose | What You Get |\n",
    "|-----------|---------|--------------|\n",
    "| **Google Cloud Project** | API management and billing | Organized resource container |\n",
    "| **API Key** | Authentication credentials | Access to Google services |\n",
    "| **Custom Search Engine** | Search scope configuration | Tailored search results |\n",
    "\n",
    "---\n",
    "\n",
    "## 5.2 Step-by-Step API Setup "
   ]
  },
  {
   "cell_type": "markdown",
   "metadata": {},
   "source": [
    "To enable our web search agent, we need two essential credentials from Google:\n",
    "\n",
    "<div style=\"background: linear-gradient(135deg, #ffecd2 0%, #fcb69f 100%); padding: 15px; border-radius: 10px; color: #333; margin: 10px 0;\">\n",
    "<strong>Required Credentials:</strong>\n",
    "<ul>\n",
    "<li><strong>GOOGLE_API_KEY</strong> - Authenticates API requests to Google services</li>\n",
    "<li><strong>GOOGLE_CSE_ID</strong> - Identifies your custom search engine configuration</li>\n",
    "</ul>\n",
    "</div>\n",
    "\n",
    "**Security Note**: These credentials will be securely stored in your Kubernetes cluster as environment variables and never exposed in your code."
   ]
  },
  {
   "cell_type": "markdown",
   "metadata": {},
   "source": [
    "### 5.2.1 Create Google Cloud Project\n",
    "\n",
    "Go to the [Google Cloud Console](https://console.cloud.google.com/welcome/new?inv=1&invt=Abyc4w).\n",
    "\n",
    "- Click *Create or Select a project* button.\n",
    "\n",
    "- On the top bar and then *New Project*.\n",
    "\n",
    "Name your project (e.g., “opea-agents”) and click **Create**"
   ]
  },
  {
   "cell_type": "markdown",
   "metadata": {},
   "source": [
    "![image](./Images/gc_1.png)"
   ]
  },
  {
   "cell_type": "markdown",
   "metadata": {},
   "source": [
    "Click on your navigation menu"
   ]
  },
  {
   "cell_type": "markdown",
   "metadata": {},
   "source": [
    "![Image](./Images/navigation.png)"
   ]
  },
  {
   "cell_type": "markdown",
   "metadata": {},
   "source": [
    "Inside your project dashboard, go to the Navigation Menu (☰) > APIs & Services > Credentials.\n",
    "\n",
    "![Image](./Images/apis.png)"
   ]
  },
  {
   "cell_type": "markdown",
   "metadata": {},
   "source": [
    "Look for the  “+ Create credentials” button.\n",
    "\n",
    "Click on `API Key`\n",
    "\n",
    "![Image](./Images/api_key.png)\n",
    "\n",
    "Copy your key for later. This key will be your `GOOGLE_API_KEY`\n",
    "\n",
    "![IMages](./Images/save_key.png)"
   ]
  },
  {
   "cell_type": "markdown",
   "metadata": {},
   "source": [
    "### 4.3 Set Up a Custom Search Engine (CSE) to Get Your GOOGLE_CSE_ID\n",
    "\n",
    "Go to [Google Custom Search Engine](https://programmablesearchengine.google.com/controlpanel/all).\n",
    "\n",
    "- Click `Add` to create a new search engine.\n",
    "\n",
    "In Sites to search, you can start by typing www.google.com or leave it empty to search the entire web (but it may require some tweaks).\n",
    "\n",
    "- Name your search engine (e.g., “opea_demo”).\n",
    "\n",
    "Click `Create`.\n",
    "\n",
    "![image](./Images/search_eng2.png)\n",
    "\n",
    "After creating, Click on *Customize*.\n",
    "\n",
    "![image](./Images/custom_2.png)\n",
    "\n",
    "Find the *Search engine ID* — this is your `GOOGLE_CSE_ID`.\n",
    "\n",
    "![image](./Images/cse_id.png)\n",
    "\n",
    "\n",
    "(Optional) In the Sites to search section, to enable searching the entire web, set Search the entire web but emphasize included sites by toggling the option."
   ]
  },
  {
   "cell_type": "markdown",
   "metadata": {},
   "source": [
    "# 6. Deploy and test"
   ]
  },
  {
   "cell_type": "code",
   "execution_count": null,
   "metadata": {},
   "outputs": [],
   "source": [
    "import os\n",
    "\n",
    "# Define local tools directory\n",
    "WORKDIR = os.getcwd()\n",
    "TOOLS_DIR = os.path.join(WORKDIR, \"mnt/tools\")\n",
    "\n",
    "if os.path.exists(TOOLS_DIR) and os.path.isdir(TOOLS_DIR):\n",
    "    # Create destination folder in the kind node\n",
    "    os.system(\"docker exec kind-control-plane mkdir -p /mnt/tools\")\n",
    "\n",
    "    # Copy everything inside mnt/tools/ into kind-control-plane:/mnt/tools/\n",
    "    os.system(f\"docker cp {TOOLS_DIR}/. kind-control-plane:/mnt/tools/\")\n",
    "\n",
    "    print(\"✅ All tools copied into kind-control-plane:/mnt/tools/\")\n",
    "else:\n",
    "    print(f\"❌ Directory {TOOLS_DIR} does not exist or is not a directory. Skipping copy.\")\n"
   ]
  },
  {
   "cell_type": "code",
   "execution_count": null,
   "metadata": {},
   "outputs": [],
   "source": [
    "# Deploy helm chart using OpenAI\n",
    "!helm upgrade --install agentqna agentqna \\\n",
    "  -f agentqna/variant_openai-values.yaml \\\n",
    "  --set browseragent.GOOGLE_API_KEY=\"GOOGLE_API_KEY\" \\\n",
    "  --set browseragent.GOOGLE_CSE_ID=\"GOOGLE_CSE_ID\"\\"
   ]
  },
  {
   "cell_type": "code",
   "execution_count": null,
   "metadata": {},
   "outputs": [],
   "source": [
    "# Restart supervisor pod to get the changes\n",
    "\n",
    "# Restart the Supervisor agent to load the updated configuration\n",
    "# This ensures the agent picks up our new tool descriptions\n",
    "\n",
    "print(\"🔄 Restarting Supervisor agent to apply changes...\")\n",
    "!kubectl rollout restart deployment/agentqna-supervisor\n",
    "\n",
    "print(\"⏳ Waiting for rollout to complete...\")\n",
    "!kubectl rollout status deployment/agentqna-supervisor --timeout=60s\n",
    "\n",
    "print(\"✅ Supervisor agent restarted with updated configuration!\")"
   ]
  },
  {
   "cell_type": "code",
   "execution_count": null,
   "metadata": {},
   "outputs": [],
   "source": [
    "# First, let's ensure our Supervisor agent is accessible\n",
    "# This assumes you have completed Notebook 1 and have AgentQnA running\n",
    "\n",
    "import subprocess\n",
    "import socket\n",
    "import time\n",
    "\n",
    "def is_port_open(host='localhost', port=9090):\n",
    "    \"\"\"Check if port is already open\"\"\"\n",
    "    with socket.socket(socket.AF_INET, socket.SOCK_STREAM) as sock:\n",
    "        sock.settimeout(1)\n",
    "        try:\n",
    "            sock.connect((host, port))\n",
    "            return True\n",
    "        except:\n",
    "            return False\n",
    "\n",
    "if is_port_open():\n",
    "    print(\"✅ Port-forward already running on localhost:9090\")\n",
    "else:\n",
    "    print(\"🔁 Starting port-forward to Supervisor agent...\")\n",
    "    subprocess.Popen(\n",
    "        [\"kubectl\", \"port-forward\", \"svc/agentqna-supervisor\", \"9090:9090\"],\n",
    "        stdout=subprocess.DEVNULL,\n",
    "        stderr=subprocess.DEVNULL\n",
    "    )\n",
    "    time.sleep(2)\n",
    "    if is_port_open():\n",
    "        print(\"✅ Supervisor agent now accessible on localhost:9090\")\n",
    "    else:\n",
    "        print(\"❌ Failed to start port-forward\")"
   ]
  },
  {
   "cell_type": "code",
   "execution_count": null,
   "metadata": {},
   "outputs": [],
   "source": [
    "!curl -s http://localhost:9090/v1/chat/completions \\\n",
    "  -X POST \\\n",
    "  -H \"Content-Type: application/json\" \\\n",
    "  -d '{\"role\": \"user\", \"messages\": \"When is the next Oasis concert?\", \"thread_id\": \"random_2213\", \"stream\": false}' \\\n",
    "  | jq -r '.text'"
   ]
  },
  {
   "cell_type": "code",
   "execution_count": null,
   "metadata": {},
   "outputs": [],
   "source": [
    "# Lets check the supervisor logs \n",
    "\n",
    "!kubectl logs -l app.kubernetes.io/name=supervisor --tail=30"
   ]
  },
  {
   "cell_type": "code",
   "execution_count": null,
   "metadata": {},
   "outputs": [],
   "source": [
    "# Lets check the browser agent logs \n",
    "\n",
    "!kubectl logs -l app.kubernetes.io/name=browseragent --tail=30"
   ]
  },
  {
   "cell_type": "markdown",
   "metadata": {
    "vscode": {
     "languageId": "raw"
    }
   },
   "source": [
    "# 🎉 Congratulations!\n",
    "\n",
    "You have successfully extended your OPEA AgentQnA system with real-time web search capabilities! You now have:\n",
    "\n",
    "✅ **A powerful web search agent** with Google API integration  \n",
    "✅ **Real-time information access** for current events and data  \n",
    "✅ **Seamless supervisor integration** with intelligent routing  \n",
    "✅ **Production-ready deployment** in your Kubernetes cluster  \n",
    "✅ **Extensible architecture** ready for additional agents\n",
    "\n",
    "### 🔄 What You've Accomplished\n",
    "\n",
    "This notebook demonstrated the complete agent extension workflow:\n",
    "\n",
    "1. **🧪 Problem Identification** - Analyzed limitations of static knowledge systems\n",
    "2. **🏗️ Architecture Design** - Planned a comprehensive web search solution\n",
    "3. **⚙️ Tool Implementation** - Built YAML interfaces and Python logic\n",
    "4. **🔌 System Integration** - Connected new agent with supervisor orchestration\n",
    "5. **🚀 Microservice Deployment** - Added new services to Kubernetes cluster\n",
    "6. **🧪 Validation Testing** - Verified real-time information capabilities\n",
    "\n",
    "### 🚀 Next Steps & Extensions\n",
    "\n",
    "Now that you understand the agent extension process, you can:\n",
    "\n",
    "- **📰 News Agent**: Create agents that fetch breaking news and current events\n",
    "- **💰 Financial Agent**: Build agents with real-time market data and stock prices\n",
    "- **🌤️ Weather Agent**: Develop agents with current weather and forecast information\n",
    "- **📊 Analytics Agent**: Create agents that pull real-time metrics and KPIs\n",
    "- **🔗 Multi-API Agents**: Combine multiple external APIs in single agents\n",
    "\n",
    "### 💡 Key Architectural Insights\n",
    "\n",
    "- **🧩 Modular Design**: Each agent is independent and can be developed separately\n",
    "- **🔄 Hot Deployment**: New agents can be added without system downtime  \n",
    "- **📈 Scalable Architecture**: The supervisor pattern scales to many specialized agents\n",
    "- **🛡️ Security First**: API credentials are managed securely through Kubernetes secrets\n",
    "- **🧠 Intelligent Routing**: The supervisor automatically routes queries to appropriate agents\n",
    "\n",
    "### 🛠️ Production Considerations\n",
    "\n",
    "For production deployments, consider:\n",
    "\n",
    "- **🔒 Security**: Use Kubernetes secrets for API credentials\n",
    "- **📊 Monitoring**: Add logging and metrics for agent performance\n",
    "- **⚡ Caching**: Implement response caching for frequently requested data\n",
    "- **🔄 Rate Limiting**: Manage API quotas and request limits\n",
    "- **🧪 Testing**: Create comprehensive test suites for agent reliability\n",
    "\n",
    "---\n",
    "\n",
    "**Ready to build your next intelligent agent system?** The foundation is now in place!\n"
   ]
  }
 ],
 "metadata": {
  "language_info": {
   "name": "python"
  }
 },
 "nbformat": 4,
 "nbformat_minor": 2
}
