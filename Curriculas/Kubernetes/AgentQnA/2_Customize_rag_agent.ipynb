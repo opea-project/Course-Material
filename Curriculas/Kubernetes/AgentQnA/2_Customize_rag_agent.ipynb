{
 "cells": [
  {
   "cell_type": "markdown",
   "metadata": {},
   "source": [
    "<img src=\"https://opea.dev/wp-content/uploads/sites/9/2024/04/opea-horizontal-color.svg\" alt=\"OPEA Logo\">"
   ]
  },
  {
   "cell_type": "markdown",
   "metadata": {},
   "source": [
    "<div style=\"text-align: center; margin: 20px 0;\">\n",
    "<a href=\"https://colab.research.google.com/github/opea-project/Course-Material/blob/main/Curriculas/Kubernetes/AgentQnA/2_Customize_rag_agent.ipynb\" target=\"_blank\">\n",
    "  <img src=\"https://colab.research.google.com/assets/colab-badge.svg\" alt=\"Open In Colab\"/>\n",
    "</a>\n",
    "</div>\n",
    "\n",
    "> **💡 Quick Start:** Click the button above to open this notebook directly in Google Colab - no local setup required!\n",
    "\n",
    "# <span style=\"color: #2E86AB; font-weight: bold;\">🛠️ Customize Your RAG Agent</span>\n",
    "\n",
    "## <span style=\"color: #A23B72; font-size: 1.2em;\">⚡ Advanced Agent Customization with </span><span style=\"color: #F18F01; font-size: 1.2em;\">OPEA AgentQnA</span>\n",
    "\n",
    "---\n",
    "\n",
    "### <span style=\"color: #C73E1D;\">🎯 What You'll Learn</span>\n",
    "\n",
    "<div style=\"background: linear-gradient(135deg, #667eea 0%, #764ba2 100%); padding: 15px; border-radius: 10px; color: white; margin: 10px 0;\">\n",
    "<strong>🚀 By the end of this tutorial, you'll be able to:</strong>\n",
    "<ul>\n",
    "<li>🧹 <strong>Clean</strong> - Reset and manage your RAG knowledge database</li>\n",
    "<li>📚 <strong>Ingest</strong> - Add new knowledge sources to your agents</li>\n",
    "<li>⚙️ <strong>Configure</strong> - Customize agent tools and capabilities</li>\n",
    "<li>🧠 <strong>Specialize</strong> - Create domain-specific knowledge agents</li>\n",
    "<li>🧪 <strong>Test</strong> - Validate your customized agent behaviors</li>\n",
    "</ul>\n",
    "</div>"
   ]
  },
  {
   "cell_type": "markdown",
   "metadata": {
    "vscode": {
     "languageId": "raw"
    }
   },
   "source": [
    "# Prerequisites\n",
    "\n",
    "This notebook assumes you have successfully completed **Notebook 1: Deploy AgentQnA** and have:\n",
    "\n",
    "## 1. **Running AgentQnA Deployment**\n",
    "   - All AgentQnA pods are running in your Kubernetes cluster\n",
    "   - Supervisor, RAG Agent, and SQL Agent are operational\n",
    "   - Port forwarding configured for accessing services\n",
    "\n",
    "## 2. **Required Tools Available**\n",
    "   - **`kubectl`** - Configured and connected to your cluster\n",
    "   - **`curl`** and **`jq`** - For testing API endpoints\n",
    "   - **`docker`** - If using KIND cluster for file mounting\n",
    "\n",
    "## 3. **Agent Configuration Files**\n",
    "   - Agent tools and configuration files should be accessible\n",
    "   - `/mnt/tools/` directory mounted in your cluster (for KIND)\n",
    "\n",
    "## 4. **Network Access**\n",
    "   - Port forwarding capabilities for services (ports 9090, 6007)\n",
    "   - Internet access for downloading new knowledge sources\n",
    "\n",
    "---\n",
    "\n",
    "# 1. Introduction: Why Customize Your RAG Agent?\n"
   ]
  },
  {
   "cell_type": "markdown",
   "metadata": {
    "vscode": {
     "languageId": "raw"
    }
   },
   "source": [
    "## 1.1 🧠 From Generic to Specialized: The Power of Domain Knowledge\n",
    "\n",
    "In [Notebook 1](./1_Deploy_AgentQnA.ipynb), we deployed a general-purpose AgentQnA system with basic music-related knowledge. While this demonstrates the core capabilities, **real-world applications require specialized knowledge bases** tailored to specific domains or use cases.\n",
    "\n",
    "> **Think of it this way:**\n",
    "> - 🏥 **Healthcare Agent**: Needs medical literature, drug databases, and clinical guidelines  \n",
    "> - 💼 **Enterprise Agent**: Requires company policies, internal documentation, and workflows  \n",
    "> - 🎓 **Education Agent**: Benefits from course materials, research papers, and learning resources  \n",
    "> - 🏛️ **Legal Agent**: Must access legal precedents, regulations, and case studies\n",
    "\n",
    "### 🔑 Key Benefits of Customization:\n",
    "\n",
    "| Benefit | Description | Impact |\n",
    "|---------|-------------|---------|\n",
    "| **🎯 Relevance** | Domain-specific knowledge improves answer accuracy | Higher user satisfaction |\n",
    "| **🚀 Performance** | Focused knowledge base reduces noise in retrieval | Faster, more precise responses |\n",
    "| **🔒 Control** | Manage exactly what information your agent can access | Better security and compliance |\n",
    "| **📈 Scalability** | Update knowledge without redeploying the entire system | Faster iteration cycles |\n",
    "\n",
    "---\n",
    "\n",
    "## 1.2 🛠️ What We'll Customize Today\n",
    "\n",
    "In this notebook, we'll transform our music-focused RAG agent into a **1960s counterculture specialist** by:\n",
    "\n",
    "1. **🧹 Cleaning the existing knowledge base** - Remove blueprint RAG music data\n",
    "2. **📚 Ingesting new specialized content to the RAG Agent** - Add Summer of Love information  \n",
    "3. **⚙️ Updating agent tools** - Modify tool descriptions for new domain\n",
    "4. **🧪 Testing specialized behaviors** - Validate domain expertise\n",
    "\n",
    "This process demonstrates how to adapt any OPEA agent for your specific use case.\n",
    "\n",
    "---\n"
   ]
  },
  {
   "cell_type": "markdown",
   "metadata": {},
   "source": [
    "# 2. Setup and Initialization"
   ]
  },
  {
   "cell_type": "code",
   "execution_count": null,
   "metadata": {},
   "outputs": [],
   "source": [
    "# Download your kubeconfig access \n",
    "\n",
    "!export KUBECONFIG=/path/to/your/kubeconfig"
   ]
  },
  {
   "cell_type": "code",
   "execution_count": null,
   "metadata": {},
   "outputs": [],
   "source": [
    "# Verify kubectl connection and cluster info\n",
    "!kubectl cluster-info\n",
    "!kubectl get nodes"
   ]
  },
  {
   "cell_type": "code",
   "execution_count": null,
   "metadata": {},
   "outputs": [],
   "source": [
    "# First, let's ensure our Supervisor agent is accessible\n",
    "# This assumes you have completed Notebook 1 and have AgentQnA running\n",
    "\n",
    "import subprocess\n",
    "import socket\n",
    "import time\n",
    "\n",
    "def is_port_open(host='localhost', port=9090):\n",
    "    \"\"\"Check if port is already open\"\"\"\n",
    "    with socket.socket(socket.AF_INET, socket.SOCK_STREAM) as sock:\n",
    "        sock.settimeout(1)\n",
    "        try:\n",
    "            sock.connect((host, port))\n",
    "            return True\n",
    "        except:\n",
    "            return False\n",
    "\n",
    "if is_port_open():\n",
    "    print(\"✅ Port-forward already running on localhost:9090\")\n",
    "else:\n",
    "    print(\"🔁 Starting port-forward to Supervisor agent...\")\n",
    "    subprocess.Popen(\n",
    "        [\"kubectl\", \"port-forward\", \"svc/agentqna-supervisor\", \"9090:9090\"],\n",
    "        stdout=subprocess.DEVNULL,\n",
    "        stderr=subprocess.DEVNULL\n",
    "    )\n",
    "    time.sleep(2)\n",
    "    if is_port_open():\n",
    "        print(\"✅ Supervisor agent now accessible on localhost:9090\")\n",
    "    else:\n",
    "        print(\"❌ Failed to start port-forward\")"
   ]
  },
  {
   "cell_type": "markdown",
   "metadata": {},
   "source": [
    "# 3. Clean and Reset the Knowledge Base"
   ]
  },
  {
   "cell_type": "markdown",
   "metadata": {},
   "source": [
    "\n",
    "\n",
    "## 3.1 🧹 Understanding Knowledge Base Management\n",
    "\n",
    "Before adding new specialized knowledge, we need to clean the existing knowledge available for the RAG Agent. This ensures:\n",
    "\n",
    "- **🎯 Focused Results**: Removes irrelevant information that could interfere with new domain queries\n",
    "- **🚀 Better Performance**: Smaller, focused knowledge bases improve retrieval speed and accuracy  \n",
    "- **🧠 Cleaner Reasoning**: Agents can focus on the most relevant information for their specialized domain\n",
    "\n",
    "> **💡 Best Practice**: Always start with a clean knowledge base when specializing an agent for a new domain\n",
    "\n",
    "## 3.2 Access the Data Preparation Service\n",
    "\n",
    "The Data Prep microservice is part of the [DocIndexRetriever blueprint](https://github.com/opea-project/GenAIExamples/tree/main/DocIndexRetriever). It handles all knowledge base operations - adding, cleaning, and deleting documents."
   ]
  },
  {
   "cell_type": "markdown",
   "metadata": {},
   "source": [
    "- Validate is accessible outside the cluster"
   ]
  },
  {
   "cell_type": "code",
   "execution_count": null,
   "metadata": {},
   "outputs": [],
   "source": [
    "# Make data prep microservice available outside of the cluster\n",
    "# This service manages our knowledge base (vector database)\n",
    "\n",
    "import subprocess\n",
    "import subprocess\n",
    "import socket\n",
    "import time\n",
    "\n",
    "def is_port_open(host='localhost', port=6007):\n",
    "    \"\"\"Check if data prep port is already open\"\"\"\n",
    "    with socket.socket(socket.AF_INET, socket.SOCK_STREAM) as sock:\n",
    "        sock.settimeout(1)\n",
    "        try:\n",
    "            sock.connect((host, port))\n",
    "            return True\n",
    "        except:\n",
    "            return False\n",
    "\n",
    "if is_port_open(port=6007):\n",
    "    print(\"✅ Data Prep service already accessible on localhost:6007\")\n",
    "else:\n",
    "    print(\"🔁 Starting port-forward to Data Prep service...\")\n",
    "    subprocess.Popen(\n",
    "        [\"kubectl\", \"port-forward\", \"svc/agentqna-data-prep\", \"6007:6007\"],\n",
    "        stdout=subprocess.DEVNULL,\n",
    "        stderr=subprocess.DEVNULL\n",
    "    )\n",
    "    time.sleep(2)\n",
    "    if is_port_open(port=6007):\n",
    "        print(\"✅ Data Prep service now accessible on localhost:6007\")\n",
    "    else:\n",
    "        print(\"❌ Failed to start port-forward for Data Prep service\")"
   ]
  },
  {
   "cell_type": "code",
   "execution_count": null,
   "metadata": {},
   "outputs": [],
   "source": [
    "# Get files present in the knowledge base (vector database). Files were ingested in notebook 1\n",
    "# This shows us what documents are currently indexed\n",
    "\n",
    "print(\"📋 Current files in knowledge base:\")\n",
    "!curl -X POST \"http://localhost:6007/v1/dataprep/get\" \\\n",
    "    -H \"Content-Type: application/json\""
   ]
  },
  {
   "cell_type": "markdown",
   "metadata": {
    "vscode": {
     "languageId": "raw"
    }
   },
   "source": [
    "## 3.4 Clear the Knowledge Base\n",
    "\n",
    "Now let's remove all existing documents to prepare for our new specialized content:\n"
   ]
  },
  {
   "cell_type": "code",
   "execution_count": null,
   "metadata": {},
   "outputs": [],
   "source": [
    "# Delete all documents from the knowledge base\n",
    "# Using \"all\" removes everything - perfect for starting fresh\n",
    "\n",
    "print(\"🧹 Clearing knowledge base...\")\n",
    "!curl -X POST \"http://localhost:6007/v1/dataprep/delete\" \\\n",
    "    -d '{\"file_path\": \"all\"}' \\\n",
    "    -H \"Content-Type: application/json\"\n",
    "\n",
    "!curl -X POST \"http://localhost:6007/v1/dataprep/get\" \\\n",
    "    -H \"Content-Type: application/json\"\n",
    "\n",
    "print(\"\\n✅ Knowledge base cleared! Ready for new content.\")\n",
    "\n"
   ]
  },
  {
   "cell_type": "markdown",
   "metadata": {},
   "source": [
    "# 4. Add Specialized Knowledge"
   ]
  },
  {
   "cell_type": "markdown",
   "metadata": {},
   "source": [
    "\n",
    "\n",
    "## 4.1 🌻 Transforming to a 1960s Counterculture Expert\n",
    "\n",
    "Now we'll ingest specialized content about the **Summer of Love (1967)** - a pivotal moment in 1960s counterculture. This demonstrates how to:\n",
    "\n",
    "- **🎯 Focus your agent** on a specific historical period and cultural movement\n",
    "- **📚 Add authoritative sources** from reputable knowledge repositories  \n",
    "- **🧠 Create domain expertise** that wasn't present in the original deployment\n",
    "\n",
    "### Why the Summer of Love?\n",
    "\n",
    "The Summer of Love represents a fascinating case study in:\n",
    "- **🎵 Cultural Revolution**: Music, art, and social movements intersecting\n",
    "- **🏛️ Historical Significance**: Impact on society, politics, and culture\n",
    "- **🌐 Rich Documentation**: Well-documented period with multiple perspectives\n",
    "\n",
    "## 4.2 Ingest New Knowledge Source"
   ]
  },
  {
   "cell_type": "code",
   "execution_count": null,
   "metadata": {},
   "outputs": [],
   "source": [
    "# Ingest specialized knowledge about the Summer of Love from Britannica\n",
    "# This authoritative source will become our agent's primary knowledge base\n",
    "\n",
    "print(\"📚 Ingesting Summer of Love knowledge from Britannica...\")\n",
    "print(\"🔄 This may take a few moments as the content is processed and vectorized...\")\n",
    "\n",
    "!curl -X POST \"http://localhost:6007/v1/dataprep/ingest\" \\\n",
    "    -H \"Content-Type: multipart/form-data\" \\\n",
    "    -F 'link_list=[\"https://www.britannica.com/event/Summer-of-Love-1967\"]'\n",
    "\n",
    "print(\"\\n✅ Knowledge ingestion complete! Your agent now specializes in 1960s counterculture.\")"
   ]
  },
  {
   "cell_type": "markdown",
   "metadata": {},
   "source": [
    "# 5. Update Agent Tool Configuration"
   ]
  },
  {
   "cell_type": "markdown",
   "metadata": {},
   "source": [
    "\n",
    "\n",
    "## 5.1 🔧 Why Update Tool Descriptions?\n",
    "\n",
    "Agent tools have **descriptions** that guide the Supervisor agent in deciding when to use them. By updating these descriptions, we can:\n",
    "\n",
    "- **🎯 Improve Routing**: Help the supervisor understand the new domain expertise\n",
    "- **🧠 Enhance Reasoning**: Provide context about what the RAG agent now knows\n",
    "- **⚡ Optimize Performance**: Ensure questions get routed to the right specialized agent\n",
    "\n",
    "## 5.2 Modify the Tool Configuration\n",
    "\n",
    "We need to update the `supervisor_agent_tools.yaml` file to reflect our agent's new specialization:"
   ]
  },
  {
   "cell_type": "markdown",
   "metadata": {},
   "source": [
    "### 📝 Tool Configuration Overview\n",
    "\n",
    "You can edit the `supervisor_agent_tools.yaml` file in `/mnt/tools/` to update tool descriptions. The configuration file tells the Supervisor agent what each tool does and when to use it.\n",
    "\n",
    "**Replace `search_knowledge_base` block for the updated configuration for our Summer of Love specialization:** "
   ]
  },
  {
   "cell_type": "markdown",
   "metadata": {},
   "source": [
    "```bash\n",
    "search_knowledge_base:\n",
    "  description: Search a knowledge base for getting more information about 1960s Counterculture for a given query. Returns text related to the query.\n",
    "  callable_api: tools.py:search_knowledge_base\n",
    "  args_schema:\n",
    "    query:\n",
    "      type: str\n",
    "      description: query\n",
    "  return_output: retrieved_data\n",
    "\n",
    "```"
   ]
  },
  {
   "cell_type": "markdown",
   "metadata": {},
   "source": [
    "`Save` the file and mount it to your control plane"
   ]
  },
  {
   "cell_type": "code",
   "execution_count": null,
   "metadata": {},
   "outputs": [],
   "source": [
    "# Deploy updated agent tools and configuration\n",
    "# This copies our customized tool configuration to the cluster\n",
    "\n",
    "import os\n",
    "\n",
    "WORKDIR = os.getcwd()\n",
    "TOOLS_DIR = os.path.join(WORKDIR, \"mnt/tools\")\n",
    "\n",
    "print(\"🔧 Deploying updated agent configuration...\")\n",
    "\n",
    "# Ensure the tools directory exists in the cluster\n",
    "if os.system(\"docker exec kind-control-plane mkdir -p /mnt/tools\") == 0:\n",
    "    print(\"✅ Verified /mnt/tools directory exists\")\n",
    "else:\n",
    "    print(\"❌ Failed to create directory\")\n",
    "\n",
    "# Copy updated tools and configuration to the cluster\n",
    "if os.system(f\"docker cp {TOOLS_DIR}/. kind-control-plane:/mnt/tools/\") == 0:\n",
    "    print(\"✅ Updated tools deployed to cluster\")\n",
    "    print(\"📝 Tool descriptions now reflect Summer of Love specialization\")\n",
    "else:\n",
    "    print(\"❌ Failed to deploy updated tools\")\n"
   ]
  },
  {
   "cell_type": "code",
   "execution_count": null,
   "metadata": {},
   "outputs": [],
   "source": [
    "# Restart the Supervisor agent to load the updated configuration\n",
    "# This ensures the agent picks up our new tool descriptions\n",
    "\n",
    "print(\"🔄 Restarting Supervisor agent to apply changes...\")\n",
    "!kubectl rollout restart deployment/agentqna-supervisor\n",
    "\n",
    "print(\"⏳ Waiting for rollout to complete...\")\n",
    "!kubectl rollout status deployment/agentqna-supervisor --timeout=60s\n",
    "\n",
    "print(\"✅ Supervisor agent restarted with updated configuration!\")"
   ]
  },
  {
   "cell_type": "markdown",
   "metadata": {},
   "source": [
    "# 6. Test Your Customized Agent"
   ]
  },
  {
   "cell_type": "markdown",
   "metadata": {},
   "source": [
    "\n",
    "\n",
    "## 6.1  Validating Specialization\n",
    "\n",
    "Now let's test our customized agent to ensure it:\n",
    "- **🎯 Understands its new domain** (Summer of Love & 1960s counterculture)\n",
    "- **🧠 Retrieves relevant information** from the specialized knowledge base\n",
    "- **⚡ Routes questions appropriately** through the Supervisor agent\n",
    "\n",
    "### Expected Behavior:\n",
    "- Questions about 1960s counterculture should route to our specialized RAG agent\n",
    "- The agent should provide detailed, accurate information about the Summer of Love\n",
    "- Responses should be more focused and relevant than generic answers\n",
    "\n",
    "## 6.2 Setup Port Forwarding for Testing"
   ]
  },
  {
   "cell_type": "code",
   "execution_count": null,
   "metadata": {},
   "outputs": [],
   "source": [
    "## Enable port forwarding\n",
    "import subprocess\n",
    "import socket\n",
    "import time\n",
    "\n",
    "def is_port_open(host='localhost', port=9090):\n",
    "    \"\"\"Check if port is already open\"\"\"\n",
    "    with socket.socket(socket.AF_INET, socket.SOCK_STREAM) as sock:\n",
    "        sock.settimeout(1)\n",
    "        try:\n",
    "            sock.connect((host, port))\n",
    "            return True\n",
    "        except:\n",
    "            return False\n",
    "\n",
    "if is_port_open():\n",
    "    print(\"✅ Port-forward already running on localhost:9090\")\n",
    "else:\n",
    "    print(\"🔁 Starting port-forward to Supervisor agent...\")\n",
    "    subprocess.Popen(\n",
    "        [\"kubectl\", \"port-forward\", \"svc/agentqna-supervisor\", \"9090:9090\"],\n",
    "        stdout=subprocess.DEVNULL,\n",
    "        stderr=subprocess.DEVNULL\n",
    "    )\n",
    "    time.sleep(2)\n",
    "    if is_port_open():\n",
    "        print(\"✅ Supervisor agent now accessible on localhost:9090\")\n",
    "    else:\n",
    "        print(\"❌ Failed to start port-forward\")"
   ]
  },
  {
   "cell_type": "code",
   "execution_count": null,
   "metadata": {},
   "outputs": [],
   "source": [
    "!curl -s http://localhost:9090/v1/chat/completions \\\n",
    "  -X POST \\\n",
    "  -H \"Content-Type: application/json\" \\\n",
    "  -d '{\"role\": \"user\", \"messages\": \"How did the Fillmore Auditorium and Avalon Ballroom contribute to the music scene?\", \"thread_id\": \"18364\", \"stream\": false}' \\\n",
    "  | jq -r '.text'"
   ]
  },
  {
   "cell_type": "markdown",
   "metadata": {},
   "source": [
    "Check for the logs on the RAG Agent. We can see the supervisor identifies that is a topic that could be answered by the RAG agent but the search returned documents that aren't fully related, so the supervisor will discard it and use its own knowledge to answer."
   ]
  },
  {
   "cell_type": "code",
   "execution_count": null,
   "metadata": {},
   "outputs": [],
   "source": [
    "!kubectl logs -l app.kubernetes.io/name=ragagent --tail=30"
   ]
  },
  {
   "cell_type": "code",
   "execution_count": null,
   "metadata": {},
   "outputs": [],
   "source": [
    "!kubectl logs -l app.kubernetes.io/name=supervisor --tail=30"
   ]
  },
  {
   "cell_type": "markdown",
   "metadata": {},
   "source": [
    "Let's try with a different question"
   ]
  },
  {
   "cell_type": "code",
   "execution_count": null,
   "metadata": {},
   "outputs": [],
   "source": [
    "!curl -s http://localhost:9090/v1/chat/completions \\\n",
    "  -X POST \\\n",
    "  -H \"Content-Type: application/json\" \\\n",
    "  -d '{\"role\": \"user\", \"messages\": \"How did the 1967 gatherings in San Francisco’s Haight-Ashbury district reflect the rise of countercultural values in the United States?\", \"thread_id\": \"18364\", \"stream\": false}' \\\n",
    "  | jq -r '.text'"
   ]
  },
  {
   "cell_type": "code",
   "execution_count": null,
   "metadata": {},
   "outputs": [],
   "source": [
    "!kubectl logs -l app.kubernetes.io/name=ragagent --tail=30"
   ]
  },
  {
   "cell_type": "code",
   "execution_count": null,
   "metadata": {},
   "outputs": [],
   "source": [
    "!kubectl logs -l app.kubernetes.io/name=supervisor --tail=30"
   ]
  },
  {
   "cell_type": "markdown",
   "metadata": {
    "vscode": {
     "languageId": "raw"
    }
   },
   "source": [
    "# 🎉 Congratulations!\n",
    "\n",
    "You have successfully customized your OPEA AgentQnA system! You now have:\n",
    "\n",
    "✅ **A specialized knowledge base** focused on 1960s counterculture and the Summer of Love  \n",
    "✅ **Updated tool configurations** that guide the Supervisor agent appropriately  \n",
    "✅ **Domain-specific expertise** that provides more relevant and accurate responses  \n",
    "✅ **Production-ready customization** that can be applied to any domain\n",
    "\n",
    "### 🔄 What You've Learned\n",
    "\n",
    "This notebook demonstrated the complete customization workflow:\n",
    "\n",
    "1. **🧹 Knowledge Base Management** - How to clean and reset your agent's knowledge\n",
    "2. **📚 Content Ingestion** - Adding specialized domain knowledge from authoritative sources\n",
    "3. **⚙️ Tool Configuration** - Updating agent descriptions to improve routing decisions\n",
    "4. **🧪 Validation Testing** - Ensuring your customized agent behaves as expected\n",
    "\n",
    "### 🚀 Next Steps\n",
    "\n",
    "Now that you understand the customization process, you can:\n",
    "\n",
    "- **🏥 Create healthcare agents** with medical literature and clinical guidelines\n",
    "- **💼 Build enterprise agents** with company policies and internal documentation  \n",
    "- **🎓 Develop educational agents** with course materials and research papers\n",
    "- **🏛️ Design legal agents** with regulations and case studies\n",
    "\n",
    "### 💡 Key Takeaways\n",
    "\n",
    "- **Domain specialization** dramatically improves agent relevance and accuracy\n",
    "- **Tool descriptions** are crucial for proper question routing in multi-agent systems\n",
    "- **Knowledge base management** allows for rapid iteration and domain switching\n",
    "- **OPEA's modular architecture** makes customization straightforward and scalable\n",
    "\n",
    "---\n",
    "\n",
    "**Ready to build your next specialized agent?**\n"
   ]
  }
 ],
 "metadata": {
  "kernelspec": {
   "display_name": "jupyter-mcp",
   "language": "python",
   "name": "jupyter-mcp"
  },
  "language_info": {
   "codemirror_mode": {
    "name": "ipython",
    "version": 3
   },
   "file_extension": ".py",
   "mimetype": "text/x-python",
   "name": "python",
   "nbconvert_exporter": "python",
   "pygments_lexer": "ipython3",
   "version": "3.12.3"
  }
 },
 "nbformat": 4,
 "nbformat_minor": 2
}
